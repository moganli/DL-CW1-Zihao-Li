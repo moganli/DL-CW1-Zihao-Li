{
 "cells": [
  {
   "cell_type": "code",
   "execution_count": 1,
   "id": "0945060b",
   "metadata": {},
   "outputs": [],
   "source": [
    "import numpy as np\n",
    "import matplotlib as mpl\n",
    "import matplotlib.pyplot as plt\n",
    "import pandas as pd"
   ]
  },
  {
   "cell_type": "code",
   "execution_count": 2,
   "id": "ada9c94f",
   "metadata": {},
   "outputs": [],
   "source": [
    "df= pd.read_csv (r'heart.csv')\n",
    "X = df[['age', 'sex', 'cp', 'trtbps', 'chol', 'fbs', 'restecg', 'thalachh','exng', 'oldpeak', 'slp', 'caa', 'thall']].to_numpy()\n",
    "y = df['output'].to_numpy()"
   ]
  },
  {
   "cell_type": "code",
   "execution_count": 3,
   "id": "7eda060b",
   "metadata": {},
   "outputs": [],
   "source": [
    "from sklearn.model_selection import train_test_split\n",
    "train_X, test_X, train_Y, test_Y = train_test_split(X, y, test_size = 0.2, random_state =42)"
   ]
  },
  {
   "cell_type": "markdown",
   "id": "3c3a862e",
   "metadata": {},
   "source": [
    "**bullet 1：**"
   ]
  },
  {
   "cell_type": "code",
   "execution_count": 4,
   "id": "b717b531",
   "metadata": {},
   "outputs": [
    {
     "data": {
      "text/plain": [
       "Perceptron(random_state=42)"
      ]
     },
     "execution_count": 4,
     "metadata": {},
     "output_type": "execute_result"
    }
   ],
   "source": [
    "from sklearn.linear_model import Perceptron\n",
    "per_clf = Perceptron(max_iter=1000, tol=1e-3, random_state=42)\n",
    "per_clf.fit(train_X, train_Y)"
   ]
  },
  {
   "cell_type": "code",
   "execution_count": 5,
   "id": "a0b75f53",
   "metadata": {},
   "outputs": [
    {
     "data": {
      "text/plain": [
       "array([0.72      , 0.56      , 0.54166667, 0.75      , 0.54166667,\n",
       "       0.41666667, 0.45833333, 0.45833333, 0.58333333, 0.66666667])"
      ]
     },
     "execution_count": 5,
     "metadata": {},
     "output_type": "execute_result"
    }
   ],
   "source": [
    "from sklearn.model_selection import cross_val_score\n",
    "cross_val_score(per_clf,train_X,train_Y,cv=10, scoring=\"accuracy\")"
   ]
  },
  {
   "cell_type": "code",
   "execution_count": 6,
   "id": "c1094507",
   "metadata": {},
   "outputs": [
    {
     "name": "stdout",
     "output_type": "stream",
     "text": [
      "test set score: 0.5409836065573771\n"
     ]
    }
   ],
   "source": [
    "print(\"test set score:\", per_clf.score(test_X, test_Y))"
   ]
  },
  {
   "cell_type": "markdown",
   "id": "8783a530",
   "metadata": {},
   "source": [
    "conclusion ：In my test set, the linear classifier does not work well."
   ]
  },
  {
   "cell_type": "markdown",
   "id": "0de6f0d8",
   "metadata": {},
   "source": [
    "hypothesis: this dataset is not linearly separaple.  \n",
    "Linearly related data sets may be more feasible for linear classifiers."
   ]
  },
  {
   "cell_type": "markdown",
   "id": "f5a814b7",
   "metadata": {},
   "source": [
    "**bullet 2:**"
   ]
  },
  {
   "cell_type": "code",
   "execution_count": 7,
   "id": "1abcb8ba",
   "metadata": {},
   "outputs": [],
   "source": [
    "from sklearn.preprocessing import StandardScaler"
   ]
  },
  {
   "cell_type": "code",
   "execution_count": 8,
   "id": "a46d664f",
   "metadata": {},
   "outputs": [],
   "source": [
    "X_train_full, X_test, y_train_full, y_test = train_test_split(X, y, random_state=42)\n",
    "X_train, X_valid, y_train, y_valid = train_test_split(X_train_full, y_train_full, random_state=42)"
   ]
  },
  {
   "cell_type": "code",
   "execution_count": 9,
   "id": "30f8e3b6",
   "metadata": {},
   "outputs": [],
   "source": [
    "scaler = StandardScaler()\n",
    "X_train = scaler.fit_transform(X_train)\n",
    "X_valid = scaler.transform(X_valid)\n",
    "X_test = scaler.transform(X_test)"
   ]
  },
  {
   "cell_type": "code",
   "execution_count": 10,
   "id": "4b5e9d94",
   "metadata": {},
   "outputs": [],
   "source": [
    "import tensorflow as tf\n",
    "from tensorflow import keras"
   ]
  },
  {
   "cell_type": "markdown",
   "id": "df96ca5c",
   "metadata": {},
   "source": [
    "Activation functions"
   ]
  },
  {
   "cell_type": "code",
   "execution_count": 11,
   "id": "97f21478",
   "metadata": {},
   "outputs": [],
   "source": [
    "def sigmoid(z):\n",
    "    return 1 / (1 + np.exp(-z))\n",
    "\n",
    "def relu(z):\n",
    "    return np.maximum(0, z)\n",
    "\n",
    "def derivative(f, z, eps=0.000001):\n",
    "    return (f(z + eps) - f(z - eps))/(2 * eps)"
   ]
  },
  {
   "cell_type": "markdown",
   "id": "37c8d3c8",
   "metadata": {},
   "source": [
    "epochs=50"
   ]
  },
  {
   "cell_type": "code",
   "execution_count": 12,
   "id": "a3296912",
   "metadata": {},
   "outputs": [
    {
     "name": "stdout",
     "output_type": "stream",
     "text": [
      "Epoch 1/50\n",
      "6/6 [==============================] - 0s 18ms/step - loss: 0.8246 - val_loss: 0.9108\n",
      "Epoch 2/50\n",
      "6/6 [==============================] - 0s 2ms/step - loss: 0.7785 - val_loss: 0.8682\n",
      "Epoch 3/50\n",
      "6/6 [==============================] - 0s 3ms/step - loss: 0.7419 - val_loss: 0.8304\n",
      "Epoch 4/50\n",
      "6/6 [==============================] - 0s 3ms/step - loss: 0.7092 - val_loss: 0.7896\n",
      "Epoch 5/50\n",
      "6/6 [==============================] - 0s 3ms/step - loss: 0.6733 - val_loss: 0.7591\n",
      "Epoch 6/50\n",
      "6/6 [==============================] - 0s 3ms/step - loss: 0.6474 - val_loss: 0.7284\n",
      "Epoch 7/50\n",
      "6/6 [==============================] - 0s 3ms/step - loss: 0.6204 - val_loss: 0.7006\n",
      "Epoch 8/50\n",
      "6/6 [==============================] - 0s 2ms/step - loss: 0.5968 - val_loss: 0.6740\n",
      "Epoch 9/50\n",
      "6/6 [==============================] - 0s 3ms/step - loss: 0.5735 - val_loss: 0.6499\n",
      "Epoch 10/50\n",
      "6/6 [==============================] - 0s 2ms/step - loss: 0.5528 - val_loss: 0.6260\n",
      "Epoch 11/50\n",
      "6/6 [==============================] - 0s 3ms/step - loss: 0.5328 - val_loss: 0.6076\n",
      "Epoch 12/50\n",
      "6/6 [==============================] - 0s 2ms/step - loss: 0.5170 - val_loss: 0.5886\n",
      "Epoch 13/50\n",
      "6/6 [==============================] - 0s 2ms/step - loss: 0.5008 - val_loss: 0.5708\n",
      "Epoch 14/50\n",
      "6/6 [==============================] - 0s 2ms/step - loss: 0.4858 - val_loss: 0.5533\n",
      "Epoch 15/50\n",
      "6/6 [==============================] - 0s 3ms/step - loss: 0.4706 - val_loss: 0.5363\n",
      "Epoch 16/50\n",
      "6/6 [==============================] - 0s 3ms/step - loss: 0.4562 - val_loss: 0.5226\n",
      "Epoch 17/50\n",
      "6/6 [==============================] - 0s 3ms/step - loss: 0.4447 - val_loss: 0.5090\n",
      "Epoch 18/50\n",
      "6/6 [==============================] - 0s 3ms/step - loss: 0.4331 - val_loss: 0.4946\n",
      "Epoch 19/50\n",
      "6/6 [==============================] - 0s 3ms/step - loss: 0.4210 - val_loss: 0.4834\n",
      "Epoch 20/50\n",
      "6/6 [==============================] - 0s 2ms/step - loss: 0.4115 - val_loss: 0.4732\n",
      "Epoch 21/50\n",
      "6/6 [==============================] - 0s 3ms/step - loss: 0.4029 - val_loss: 0.4632\n",
      "Epoch 22/50\n",
      "6/6 [==============================] - 0s 3ms/step - loss: 0.3940 - val_loss: 0.4520\n",
      "Epoch 23/50\n",
      "6/6 [==============================] - 0s 2ms/step - loss: 0.3847 - val_loss: 0.4425\n",
      "Epoch 24/50\n",
      "6/6 [==============================] - 0s 3ms/step - loss: 0.3763 - val_loss: 0.4330\n",
      "Epoch 25/50\n",
      "6/6 [==============================] - 0s 3ms/step - loss: 0.3685 - val_loss: 0.4245\n",
      "Epoch 26/50\n",
      "6/6 [==============================] - 0s 3ms/step - loss: 0.3614 - val_loss: 0.4169\n",
      "Epoch 27/50\n",
      "6/6 [==============================] - 0s 3ms/step - loss: 0.3546 - val_loss: 0.4098\n",
      "Epoch 28/50\n",
      "6/6 [==============================] - 0s 3ms/step - loss: 0.3483 - val_loss: 0.4012\n",
      "Epoch 29/50\n",
      "6/6 [==============================] - 0s 3ms/step - loss: 0.3411 - val_loss: 0.3940\n",
      "Epoch 30/50\n",
      "6/6 [==============================] - 0s 3ms/step - loss: 0.3348 - val_loss: 0.3875\n",
      "Epoch 31/50\n",
      "6/6 [==============================] - 0s 3ms/step - loss: 0.3293 - val_loss: 0.3814\n",
      "Epoch 32/50\n",
      "6/6 [==============================] - 0s 3ms/step - loss: 0.3241 - val_loss: 0.3756\n",
      "Epoch 33/50\n",
      "6/6 [==============================] - 0s 3ms/step - loss: 0.3187 - val_loss: 0.3698\n",
      "Epoch 34/50\n",
      "6/6 [==============================] - 0s 3ms/step - loss: 0.3139 - val_loss: 0.3633\n",
      "Epoch 35/50\n",
      "6/6 [==============================] - 0s 2ms/step - loss: 0.3083 - val_loss: 0.3577\n",
      "Epoch 36/50\n",
      "6/6 [==============================] - 0s 3ms/step - loss: 0.3033 - val_loss: 0.3533\n",
      "Epoch 37/50\n",
      "6/6 [==============================] - 0s 3ms/step - loss: 0.2991 - val_loss: 0.3488\n",
      "Epoch 38/50\n",
      "6/6 [==============================] - 0s 3ms/step - loss: 0.2950 - val_loss: 0.3428\n",
      "Epoch 39/50\n",
      "6/6 [==============================] - 0s 3ms/step - loss: 0.2899 - val_loss: 0.3385\n",
      "Epoch 40/50\n",
      "6/6 [==============================] - 0s 3ms/step - loss: 0.2860 - val_loss: 0.3337\n",
      "Epoch 41/50\n",
      "6/6 [==============================] - 0s 3ms/step - loss: 0.2819 - val_loss: 0.3302\n",
      "Epoch 42/50\n",
      "6/6 [==============================] - 0s 3ms/step - loss: 0.2783 - val_loss: 0.3266\n",
      "Epoch 43/50\n",
      "6/6 [==============================] - 0s 3ms/step - loss: 0.2747 - val_loss: 0.3231\n",
      "Epoch 44/50\n",
      "6/6 [==============================] - 0s 3ms/step - loss: 0.2713 - val_loss: 0.3196\n",
      "Epoch 45/50\n",
      "6/6 [==============================] - 0s 3ms/step - loss: 0.2681 - val_loss: 0.3161\n",
      "Epoch 46/50\n",
      "6/6 [==============================] - 0s 3ms/step - loss: 0.2651 - val_loss: 0.3127\n",
      "Epoch 47/50\n",
      "6/6 [==============================] - 0s 3ms/step - loss: 0.2619 - val_loss: 0.3100\n",
      "Epoch 48/50\n",
      "6/6 [==============================] - 0s 3ms/step - loss: 0.2591 - val_loss: 0.3073\n",
      "Epoch 49/50\n",
      "6/6 [==============================] - 0s 3ms/step - loss: 0.2563 - val_loss: 0.3049\n",
      "Epoch 50/50\n",
      "6/6 [==============================] - 0s 3ms/step - loss: 0.2537 - val_loss: 0.3024\n",
      "3/3 [==============================] - 0s 999us/step - loss: 0.2814\n"
     ]
    }
   ],
   "source": [
    "np.random.seed(42)\n",
    "tf.random.set_seed(42)\n",
    "model = keras.models.Sequential([\n",
    "    keras.layers.Dense(30, activation=\"relu\", input_shape=X_train.shape[1:]),\n",
    "    keras.layers.Dense(1)\n",
    "])\n",
    "model.compile(loss=\"mean_squared_error\", optimizer=keras.optimizers.SGD(learning_rate=1e-3))\n",
    "history = model.fit(X_train, y_train, epochs=50, validation_data=(X_valid, y_valid))\n",
    "mse_test = model.evaluate(X_test, y_test)\n",
    "X_new = X_test[:3]\n",
    "y_pred = model.predict(X_new)"
   ]
  },
  {
   "cell_type": "code",
   "execution_count": 13,
   "id": "fa9193d8",
   "metadata": {},
   "outputs": [
    {
     "data": {
      "image/png": "[encoded data removed]",
      "text/plain": [
       "<Figure size 432x288 with 1 Axes>"
      ]
     },
     "metadata": {
      "needs_background": "light"
     },
     "output_type": "display_data"
    }
   ],
   "source": [
    "plt.plot(pd.DataFrame(history.history))\n",
    "plt.grid(True)\n",
    "plt.gca().set_ylim(0, 1)\n",
    "plt.show()"
   ]
  },
  {
   "cell_type": "code",
   "execution_count": 14,
   "id": "03d52e2e",
   "metadata": {},
   "outputs": [
    {
     "data": {
      "text/plain": [
       "array([[0.73590684],\n",
       "       [0.81380147],\n",
       "       [0.5244442 ]], dtype=float32)"
      ]
     },
     "execution_count": 14,
     "metadata": {},
     "output_type": "execute_result"
    }
   ],
   "source": [
    "y_pred"
   ]
  },
  {
   "cell_type": "code",
   "execution_count": 15,
   "id": "d203fd1a",
   "metadata": {},
   "outputs": [
    {
     "name": "stdout",
     "output_type": "stream",
     "text": [
      "Model: \"sequential\"\n",
      "_________________________________________________________________\n",
      "Layer (type)                 Output Shape              Param #   \n",
      "=================================================================\n",
      "dense (Dense)                (None, 30)                420       \n",
      "_________________________________________________________________\n",
      "dense_1 (Dense)              (None, 1)                 31        \n",
      "=================================================================\n",
      "Total params: 451\n",
      "Trainable params: 451\n",
      "Non-trainable params: 0\n",
      "_________________________________________________________________\n"
     ]
    }
   ],
   "source": [
    "model.summary()"
   ]
  },
  {
   "cell_type": "markdown",
   "id": "a34e032e",
   "metadata": {},
   "source": [
    "epochs=100;3 layer; regularizer L2"
   ]
  },
  {
   "cell_type": "code",
   "execution_count": 16,
   "id": "d9b9b653",
   "metadata": {},
   "outputs": [
    {
     "name": "stdout",
     "output_type": "stream",
     "text": [
      "Epoch 1/100\n",
      "6/6 [==============================] - 0s 16ms/step - loss: 2.3904 - val_loss: 1.9948\n",
      "Epoch 2/100\n",
      "6/6 [==============================] - 0s 3ms/step - loss: 1.9814 - val_loss: 1.6706\n",
      "Epoch 3/100\n",
      "6/6 [==============================] - 0s 3ms/step - loss: 1.6885 - val_loss: 1.3977\n",
      "Epoch 4/100\n",
      "6/6 [==============================] - 0s 3ms/step - loss: 1.4403 - val_loss: 1.2045\n",
      "Epoch 5/100\n",
      "6/6 [==============================] - 0s 3ms/step - loss: 1.2630 - val_loss: 1.0499\n",
      "Epoch 6/100\n",
      "6/6 [==============================] - 0s 3ms/step - loss: 1.1204 - val_loss: 0.9341\n",
      "Epoch 7/100\n",
      "6/6 [==============================] - 0s 3ms/step - loss: 1.0123 - val_loss: 0.8448\n",
      "Epoch 8/100\n",
      "6/6 [==============================] - 0s 3ms/step - loss: 0.9272 - val_loss: 0.7620\n",
      "Epoch 9/100\n",
      "6/6 [==============================] - 0s 3ms/step - loss: 0.8475 - val_loss: 0.7032\n",
      "Epoch 10/100\n",
      "6/6 [==============================] - 0s 3ms/step - loss: 0.7915 - val_loss: 0.6562\n",
      "Epoch 11/100\n",
      "6/6 [==============================] - 0s 3ms/step - loss: 0.7455 - val_loss: 0.6151\n",
      "Epoch 12/100\n",
      "6/6 [==============================] - 0s 2ms/step - loss: 0.7050 - val_loss: 0.5809\n",
      "Epoch 13/100\n",
      "6/6 [==============================] - 0s 2ms/step - loss: 0.6713 - val_loss: 0.5485\n",
      "Epoch 14/100\n",
      "6/6 [==============================] - 0s 3ms/step - loss: 0.6392 - val_loss: 0.5256\n",
      "Epoch 15/100\n",
      "6/6 [==============================] - 0s 3ms/step - loss: 0.6157 - val_loss: 0.5053\n",
      "Epoch 16/100\n",
      "6/6 [==============================] - 0s 2ms/step - loss: 0.5941 - val_loss: 0.4877\n",
      "Epoch 17/100\n",
      "6/6 [==============================] - 0s 3ms/step - loss: 0.5759 - val_loss: 0.4726\n",
      "Epoch 18/100\n",
      "6/6 [==============================] - 0s 3ms/step - loss: 0.5601 - val_loss: 0.4563\n",
      "Epoch 19/100\n",
      "6/6 [==============================] - 0s 2ms/step - loss: 0.5433 - val_loss: 0.4412\n",
      "Epoch 20/100\n",
      "6/6 [==============================] - 0s 3ms/step - loss: 0.5287 - val_loss: 0.4293\n",
      "Epoch 21/100\n",
      "6/6 [==============================] - 0s 2ms/step - loss: 0.5151 - val_loss: 0.4176\n",
      "Epoch 22/100\n",
      "6/6 [==============================] - 0s 3ms/step - loss: 0.5038 - val_loss: 0.4104\n",
      "Epoch 23/100\n",
      "6/6 [==============================] - 0s 3ms/step - loss: 0.4950 - val_loss: 0.4000\n",
      "Epoch 24/100\n",
      "6/6 [==============================] - 0s 2ms/step - loss: 0.4839 - val_loss: 0.3920\n",
      "Epoch 25/100\n",
      "6/6 [==============================] - 0s 3ms/step - loss: 0.4748 - val_loss: 0.3842\n",
      "Epoch 26/100\n",
      "6/6 [==============================] - 0s 2ms/step - loss: 0.4667 - val_loss: 0.3772\n",
      "Epoch 27/100\n",
      "6/6 [==============================] - 0s 3ms/step - loss: 0.4591 - val_loss: 0.3717\n",
      "Epoch 28/100\n",
      "6/6 [==============================] - 0s 2ms/step - loss: 0.4528 - val_loss: 0.3668\n",
      "Epoch 29/100\n",
      "6/6 [==============================] - 0s 3ms/step - loss: 0.4470 - val_loss: 0.3622\n",
      "Epoch 30/100\n",
      "6/6 [==============================] - 0s 3ms/step - loss: 0.4414 - val_loss: 0.3572\n",
      "Epoch 31/100\n",
      "6/6 [==============================] - 0s 3ms/step - loss: 0.4357 - val_loss: 0.3530\n",
      "Epoch 32/100\n",
      "6/6 [==============================] - 0s 3ms/step - loss: 0.4308 - val_loss: 0.3468\n",
      "Epoch 33/100\n",
      "6/6 [==============================] - 0s 3ms/step - loss: 0.4241 - val_loss: 0.3427\n",
      "Epoch 34/100\n",
      "6/6 [==============================] - 0s 3ms/step - loss: 0.4192 - val_loss: 0.3387\n",
      "Epoch 35/100\n",
      "6/6 [==============================] - 0s 3ms/step - loss: 0.4146 - val_loss: 0.3351\n",
      "Epoch 36/100\n",
      "6/6 [==============================] - 0s 3ms/step - loss: 0.4099 - val_loss: 0.3311\n",
      "Epoch 37/100\n",
      "6/6 [==============================] - 0s 3ms/step - loss: 0.4053 - val_loss: 0.3278\n",
      "Epoch 38/100\n",
      "6/6 [==============================] - 0s 3ms/step - loss: 0.4012 - val_loss: 0.3248\n",
      "Epoch 39/100\n",
      "6/6 [==============================] - 0s 3ms/step - loss: 0.3973 - val_loss: 0.3213\n",
      "Epoch 40/100\n",
      "6/6 [==============================] - 0s 2ms/step - loss: 0.3933 - val_loss: 0.3187\n",
      "Epoch 41/100\n",
      "6/6 [==============================] - 0s 2ms/step - loss: 0.3896 - val_loss: 0.3159\n",
      "Epoch 42/100\n",
      "6/6 [==============================] - 0s 2ms/step - loss: 0.3861 - val_loss: 0.3133\n",
      "Epoch 43/100\n",
      "6/6 [==============================] - 0s 2ms/step - loss: 0.3826 - val_loss: 0.3109\n",
      "Epoch 44/100\n",
      "6/6 [==============================] - 0s 2ms/step - loss: 0.3793 - val_loss: 0.3085\n",
      "Epoch 45/100\n",
      "6/6 [==============================] - 0s 2ms/step - loss: 0.3762 - val_loss: 0.3063\n",
      "Epoch 46/100\n",
      "6/6 [==============================] - 0s 2ms/step - loss: 0.3732 - val_loss: 0.3039\n",
      "Epoch 47/100\n",
      "6/6 [==============================] - 0s 3ms/step - loss: 0.3701 - val_loss: 0.3016\n",
      "Epoch 48/100\n",
      "6/6 [==============================] - 0s 3ms/step - loss: 0.3669 - val_loss: 0.2995\n",
      "Epoch 49/100\n",
      "6/6 [==============================] - 0s 3ms/step - loss: 0.3639 - val_loss: 0.2975\n",
      "Epoch 50/100\n",
      "6/6 [==============================] - 0s 3ms/step - loss: 0.3610 - val_loss: 0.2953\n",
      "Epoch 51/100\n",
      "6/6 [==============================] - 0s 2ms/step - loss: 0.3580 - val_loss: 0.2932\n",
      "Epoch 52/100\n",
      "6/6 [==============================] - 0s 2ms/step - loss: 0.3552 - val_loss: 0.2911\n",
      "Epoch 53/100\n",
      "6/6 [==============================] - 0s 3ms/step - loss: 0.3526 - val_loss: 0.2893\n",
      "Epoch 54/100\n",
      "6/6 [==============================] - 0s 3ms/step - loss: 0.3500 - val_loss: 0.2876\n",
      "Epoch 55/100\n",
      "6/6 [==============================] - 0s 2ms/step - loss: 0.3475 - val_loss: 0.2857\n",
      "Epoch 56/100\n",
      "6/6 [==============================] - 0s 2ms/step - loss: 0.3450 - val_loss: 0.2841\n",
      "Epoch 57/100\n",
      "6/6 [==============================] - 0s 3ms/step - loss: 0.3429 - val_loss: 0.2822\n",
      "Epoch 58/100\n",
      "6/6 [==============================] - 0s 3ms/step - loss: 0.3405 - val_loss: 0.2807\n",
      "Epoch 59/100\n",
      "6/6 [==============================] - 0s 3ms/step - loss: 0.3385 - val_loss: 0.2791\n",
      "Epoch 60/100\n",
      "6/6 [==============================] - 0s 3ms/step - loss: 0.3365 - val_loss: 0.2777\n",
      "Epoch 61/100\n",
      "6/6 [==============================] - 0s 3ms/step - loss: 0.3346 - val_loss: 0.2762\n",
      "Epoch 62/100\n",
      "6/6 [==============================] - 0s 3ms/step - loss: 0.3325 - val_loss: 0.2747\n",
      "Epoch 63/100\n",
      "6/6 [==============================] - 0s 3ms/step - loss: 0.3306 - val_loss: 0.2733\n",
      "Epoch 64/100\n",
      "6/6 [==============================] - 0s 3ms/step - loss: 0.3287 - val_loss: 0.2718\n",
      "Epoch 65/100\n",
      "6/6 [==============================] - 0s 3ms/step - loss: 0.3268 - val_loss: 0.2703\n",
      "Epoch 66/100\n",
      "6/6 [==============================] - 0s 2ms/step - loss: 0.3248 - val_loss: 0.2689\n",
      "Epoch 67/100\n",
      "6/6 [==============================] - 0s 2ms/step - loss: 0.3232 - val_loss: 0.2678\n",
      "Epoch 68/100\n",
      "6/6 [==============================] - 0s 2ms/step - loss: 0.3215 - val_loss: 0.2666\n",
      "Epoch 69/100\n",
      "6/6 [==============================] - 0s 3ms/step - loss: 0.3199 - val_loss: 0.2654\n",
      "Epoch 70/100\n",
      "6/6 [==============================] - 0s 3ms/step - loss: 0.3182 - val_loss: 0.2644\n",
      "Epoch 71/100\n",
      "6/6 [==============================] - 0s 3ms/step - loss: 0.3164 - val_loss: 0.2634\n",
      "Epoch 72/100\n",
      "6/6 [==============================] - 0s 3ms/step - loss: 0.3148 - val_loss: 0.2624\n",
      "Epoch 73/100\n",
      "6/6 [==============================] - 0s 3ms/step - loss: 0.3132 - val_loss: 0.2613\n",
      "Epoch 74/100\n",
      "6/6 [==============================] - 0s 3ms/step - loss: 0.3114 - val_loss: 0.2603\n",
      "Epoch 75/100\n",
      "6/6 [==============================] - 0s 3ms/step - loss: 0.3097 - val_loss: 0.2594\n",
      "Epoch 76/100\n",
      "6/6 [==============================] - 0s 3ms/step - loss: 0.3082 - val_loss: 0.2583\n",
      "Epoch 77/100\n",
      "6/6 [==============================] - 0s 3ms/step - loss: 0.3066 - val_loss: 0.2573\n",
      "Epoch 78/100\n",
      "6/6 [==============================] - 0s 3ms/step - loss: 0.3051 - val_loss: 0.2565\n",
      "Epoch 79/100\n",
      "6/6 [==============================] - 0s 2ms/step - loss: 0.3036 - val_loss: 0.2555\n",
      "Epoch 80/100\n",
      "6/6 [==============================] - 0s 3ms/step - loss: 0.3021 - val_loss: 0.2548\n",
      "Epoch 81/100\n",
      "6/6 [==============================] - 0s 3ms/step - loss: 0.3010 - val_loss: 0.2541\n",
      "Epoch 82/100\n",
      "6/6 [==============================] - 0s 3ms/step - loss: 0.2996 - val_loss: 0.2532\n",
      "Epoch 83/100\n",
      "6/6 [==============================] - 0s 3ms/step - loss: 0.2982 - val_loss: 0.2524\n",
      "Epoch 84/100\n"
     ]
    },
    {
     "name": "stdout",
     "output_type": "stream",
     "text": [
      "6/6 [==============================] - 0s 2ms/step - loss: 0.2969 - val_loss: 0.2517\n",
      "Epoch 85/100\n",
      "6/6 [==============================] - 0s 2ms/step - loss: 0.2958 - val_loss: 0.2510\n",
      "Epoch 86/100\n",
      "6/6 [==============================] - 0s 3ms/step - loss: 0.2946 - val_loss: 0.2503\n",
      "Epoch 87/100\n",
      "6/6 [==============================] - 0s 2ms/step - loss: 0.2935 - val_loss: 0.2496\n",
      "Epoch 88/100\n",
      "6/6 [==============================] - 0s 3ms/step - loss: 0.2924 - val_loss: 0.2490\n",
      "Epoch 89/100\n",
      "6/6 [==============================] - 0s 3ms/step - loss: 0.2913 - val_loss: 0.2483\n",
      "Epoch 90/100\n",
      "6/6 [==============================] - 0s 3ms/step - loss: 0.2903 - val_loss: 0.2477\n",
      "Epoch 91/100\n",
      "6/6 [==============================] - 0s 3ms/step - loss: 0.2892 - val_loss: 0.2471\n",
      "Epoch 92/100\n",
      "6/6 [==============================] - 0s 3ms/step - loss: 0.2882 - val_loss: 0.2464\n",
      "Epoch 93/100\n",
      "6/6 [==============================] - 0s 3ms/step - loss: 0.2870 - val_loss: 0.2457\n",
      "Epoch 94/100\n",
      "6/6 [==============================] - 0s 2ms/step - loss: 0.2859 - val_loss: 0.2451\n",
      "Epoch 95/100\n",
      "6/6 [==============================] - 0s 3ms/step - loss: 0.2849 - val_loss: 0.2444\n",
      "Epoch 96/100\n",
      "6/6 [==============================] - 0s 3ms/step - loss: 0.2839 - val_loss: 0.2439\n",
      "Epoch 97/100\n",
      "6/6 [==============================] - 0s 2ms/step - loss: 0.2828 - val_loss: 0.2431\n",
      "Epoch 98/100\n",
      "6/6 [==============================] - 0s 3ms/step - loss: 0.2818 - val_loss: 0.2427\n",
      "Epoch 99/100\n",
      "6/6 [==============================] - 0s 3ms/step - loss: 0.2809 - val_loss: 0.2420\n",
      "Epoch 100/100\n",
      "6/6 [==============================] - 0s 3ms/step - loss: 0.2798 - val_loss: 0.2415\n",
      "3/3 [==============================] - 0s 671us/step - loss: 0.3367\n"
     ]
    }
   ],
   "source": [
    "np.random.seed(42)\n",
    "tf.random.set_seed(42)\n",
    "model = keras.models.Sequential([\n",
    "    keras.layers.Dense(30, activation=\"relu\", input_shape=X_train.shape[1:]),   \n",
    "    keras.layers.Dense(3,activation=\"relu\", kernel_regularizer = tf.keras.regularizers.l2()),\n",
    "    keras.layers.Dense(1)\n",
    "])\n",
    "model.compile(loss=\"mean_squared_error\", optimizer=keras.optimizers.SGD(learning_rate=1e-3))\n",
    "history = model.fit(X_train, y_train, epochs=100, validation_data=(X_valid, y_valid))\n",
    "mse_test = model.evaluate(X_test, y_test)\n",
    "X_new = X_test[:3]\n",
    "y_pred = model.predict(X_new)"
   ]
  },
  {
   "cell_type": "code",
   "execution_count": 17,
   "id": "066b18c6",
   "metadata": {},
   "outputs": [
    {
     "data": {
      "image/png": "[encoded data removed]",
      "text/plain": [
       "<Figure size 432x288 with 1 Axes>"
      ]
     },
     "metadata": {
      "needs_background": "light"
     },
     "output_type": "display_data"
    }
   ],
   "source": [
    "plt.plot(pd.DataFrame(history.history))\n",
    "plt.grid(True)\n",
    "plt.gca().set_ylim(0, 1)\n",
    "plt.show()"
   ]
  },
  {
   "cell_type": "code",
   "execution_count": 18,
   "id": "27ebe906",
   "metadata": {},
   "outputs": [
    {
     "data": {
      "text/plain": [
       "array([[0.7059063],\n",
       "       [1.0125808],\n",
       "       [1.0245696]], dtype=float32)"
      ]
     },
     "execution_count": 18,
     "metadata": {},
     "output_type": "execute_result"
    }
   ],
   "source": [
    "y_pred"
   ]
  },
  {
   "cell_type": "code",
   "execution_count": 19,
   "id": "d31d6401",
   "metadata": {},
   "outputs": [
    {
     "name": "stdout",
     "output_type": "stream",
     "text": [
      "Model: \"sequential_1\"\n",
      "_________________________________________________________________\n",
      "Layer (type)                 Output Shape              Param #   \n",
      "=================================================================\n",
      "dense_2 (Dense)              (None, 30)                420       \n",
      "_________________________________________________________________\n",
      "dense_3 (Dense)              (None, 3)                 93        \n",
      "_________________________________________________________________\n",
      "dense_4 (Dense)              (None, 1)                 4         \n",
      "=================================================================\n",
      "Total params: 517\n",
      "Trainable params: 517\n",
      "Non-trainable params: 0\n",
      "_________________________________________________________________\n"
     ]
    }
   ],
   "source": [
    "model.summary()"
   ]
  },
  {
   "cell_type": "markdown",
   "id": "3d59ac05",
   "metadata": {},
   "source": [
    "conclusion:In my data set, 3 layers have better accuracy than two layers, but it is undeniable that the learning time required becomes longer, I think it is worth it."
   ]
  },
  {
   "cell_type": "markdown",
   "id": "a0ca227d",
   "metadata": {},
   "source": [
    "**bullet 3：**"
   ]
  },
  {
   "cell_type": "markdown",
   "id": "98501d64",
   "metadata": {},
   "source": [
    "conclusion ：Linear Classifiers are models that assume a linear relationship between features and classification results. This model assists category decision-making by accumulating the product of each dimension's feature and its respective weight."
   ]
  },
  {
   "cell_type": "markdown",
   "id": "48136fac",
   "metadata": {},
   "source": [
    "MLP has good results when used on the new data set."
   ]
  },
  {
   "cell_type": "markdown",
   "id": "67c7b00e",
   "metadata": {},
   "source": [
    "The role of the activation function is The activation function is used to add non-linear factors, because the expressive ability of the linear model is not enough."
   ]
  },
  {
   "cell_type": "markdown",
   "id": "2dcbe5d0",
   "metadata": {},
   "source": [
    "**bullet 4：**"
   ]
  },
  {
   "cell_type": "code",
   "execution_count": 20,
   "id": "551ef692",
   "metadata": {},
   "outputs": [],
   "source": [
    "from sklearn.preprocessing import StandardScaler\n",
    "scaler = StandardScaler()\n",
    "X_train = scaler.fit_transform(X_train)\n",
    "X_test = scaler.fit_transform(X_test)"
   ]
  },
  {
   "cell_type": "code",
   "execution_count": 21,
   "id": "d914c019",
   "metadata": {},
   "outputs": [
    {
     "name": "stdout",
     "output_type": "stream",
     "text": [
      "[[-1.20888788  0.71962292 -0.95452756 ...  1.02153805  0.31719113\n",
      "  -0.51430904]\n",
      " [-0.09861808  0.71962292  1.00052889 ...  1.02153805 -0.71977986\n",
      "   1.10481201]\n",
      " [ 0.67857078 -1.38961667 -0.95452756 ...  1.02153805 -0.71977986\n",
      "  -0.51430904]\n",
      " ...\n",
      " [ 1.1226787  -1.38961667  1.00052889 ...  1.02153805  0.31719113\n",
      "  -0.51430904]\n",
      " [ 1.45575964 -1.38961667  1.00052889 ... -0.6323807  -0.71977986\n",
      "  -0.51430904]\n",
      " [ 0.34548984 -1.38961667 -0.95452756 ... -0.6323807  -0.71977986\n",
      "  -0.51430904]]\n",
      "\n",
      "\n",
      "(170, 13)\n"
     ]
    }
   ],
   "source": [
    "print(X_train)\n",
    "print('\\n')\n",
    "print(X_train.shape)"
   ]
  },
  {
   "cell_type": "code",
   "execution_count": 35,
   "id": "1bf69513",
   "metadata": {},
   "outputs": [
    {
     "name": "stdout",
     "output_type": "stream",
     "text": [
      "Model: \"sequential_5\"\n",
      "_________________________________________________________________\n",
      "Layer (type)                 Output Shape              Param #   \n",
      "=================================================================\n",
      "dense_15 (Dense)             (None, 256)               3584      \n",
      "_________________________________________________________________\n",
      "dense_16 (Dense)             (None, 500)               128500    \n",
      "_________________________________________________________________\n",
      "dropout_4 (Dropout)          (None, 500)               0         \n",
      "_________________________________________________________________\n",
      "dense_17 (Dense)             (None, 50)                25050     \n",
      "_________________________________________________________________\n",
      "dropout_5 (Dropout)          (None, 50)                0         \n",
      "_________________________________________________________________\n",
      "dense_18 (Dense)             (None, 1)                 51        \n",
      "=================================================================\n",
      "Total params: 157,185\n",
      "Trainable params: 157,185\n",
      "Non-trainable params: 0\n",
      "_________________________________________________________________\n"
     ]
    }
   ],
   "source": [
    "from tensorflow import keras\n",
    "\n",
    "model = keras.Sequential(\n",
    "    [\n",
    "        keras.layers.Dense(\n",
    "            256, activation=\"relu\", input_shape=[13]\n",
    "        ),\n",
    "        keras.layers.Dense(500, activation=\"relu\"),\n",
    "        keras.layers.Dropout(0.3),\n",
    "        keras.layers.Dense(50, activation=\"relu\"),\n",
    "        keras.layers.Dropout(0.3),\n",
    "        keras.layers.Dense(1, activation=\"relu\"),\n",
    "    ]\n",
    ")\n",
    "model.summary()"
   ]
  },
  {
   "cell_type": "code",
   "execution_count": 41,
   "id": "cf63d72c",
   "metadata": {},
   "outputs": [
    {
     "name": "stdout",
     "output_type": "stream",
     "text": [
      "Epoch 1/50\n",
      "12/12 [==============================] - 0s 5ms/step - loss: 0.2319 - binary_accuracy: 0.9706 - val_loss: 1.3291 - val_binary_accuracy: 0.8421\n",
      "Epoch 2/50\n",
      "12/12 [==============================] - 0s 3ms/step - loss: 0.2227 - binary_accuracy: 0.9824 - val_loss: 1.5731 - val_binary_accuracy: 0.8421\n",
      "Epoch 3/50\n",
      "12/12 [==============================] - 0s 3ms/step - loss: 0.2182 - binary_accuracy: 0.9824 - val_loss: 1.6060 - val_binary_accuracy: 0.8421\n",
      "Epoch 4/50\n",
      "12/12 [==============================] - 0s 3ms/step - loss: 0.3063 - binary_accuracy: 0.9706 - val_loss: 1.5817 - val_binary_accuracy: 0.8070\n",
      "Epoch 5/50\n",
      "12/12 [==============================] - 0s 3ms/step - loss: 0.2163 - binary_accuracy: 0.9765 - val_loss: 1.5139 - val_binary_accuracy: 0.8246\n",
      "Epoch 6/50\n",
      "12/12 [==============================] - 0s 3ms/step - loss: 0.2191 - binary_accuracy: 0.9765 - val_loss: 1.7552 - val_binary_accuracy: 0.8246\n",
      "Epoch 7/50\n",
      "12/12 [==============================] - 0s 3ms/step - loss: 0.3038 - binary_accuracy: 0.9647 - val_loss: 2.1503 - val_binary_accuracy: 0.7193\n",
      "Epoch 8/50\n",
      "12/12 [==============================] - 0s 3ms/step - loss: 0.4075 - binary_accuracy: 0.9706 - val_loss: 2.1054 - val_binary_accuracy: 0.7895\n",
      "Epoch 9/50\n",
      "12/12 [==============================] - 0s 3ms/step - loss: 0.2382 - binary_accuracy: 0.9588 - val_loss: 1.7898 - val_binary_accuracy: 0.7895\n",
      "Epoch 10/50\n",
      "12/12 [==============================] - 0s 3ms/step - loss: 0.2140 - binary_accuracy: 0.9706 - val_loss: 1.5477 - val_binary_accuracy: 0.8070\n",
      "Epoch 11/50\n",
      "12/12 [==============================] - 0s 3ms/step - loss: 0.2145 - binary_accuracy: 0.9706 - val_loss: 1.3459 - val_binary_accuracy: 0.8070\n",
      "Epoch 12/50\n",
      "12/12 [==============================] - 0s 3ms/step - loss: 0.2085 - binary_accuracy: 0.9824 - val_loss: 1.5696 - val_binary_accuracy: 0.8070\n",
      "Epoch 13/50\n",
      "12/12 [==============================] - 0s 3ms/step - loss: 0.1932 - binary_accuracy: 0.9824 - val_loss: 2.0303 - val_binary_accuracy: 0.8421\n",
      "Epoch 14/50\n",
      "12/12 [==============================] - 0s 3ms/step - loss: 0.1958 - binary_accuracy: 0.9824 - val_loss: 2.0199 - val_binary_accuracy: 0.8421\n",
      "Epoch 15/50\n",
      "12/12 [==============================] - 0s 3ms/step - loss: 0.2049 - binary_accuracy: 0.9824 - val_loss: 1.9786 - val_binary_accuracy: 0.8246\n",
      "Epoch 16/50\n",
      "12/12 [==============================] - 0s 3ms/step - loss: 0.4045 - binary_accuracy: 0.9588 - val_loss: 1.5111 - val_binary_accuracy: 0.8246\n",
      "Epoch 17/50\n",
      "12/12 [==============================] - 0s 3ms/step - loss: 0.3064 - binary_accuracy: 0.9706 - val_loss: 0.9846 - val_binary_accuracy: 0.8070\n",
      "Epoch 18/50\n",
      "12/12 [==============================] - 0s 3ms/step - loss: 0.2259 - binary_accuracy: 0.9765 - val_loss: 1.7570 - val_binary_accuracy: 0.8246\n",
      "Epoch 19/50\n",
      "12/12 [==============================] - 0s 3ms/step - loss: 0.1999 - binary_accuracy: 0.9824 - val_loss: 1.8277 - val_binary_accuracy: 0.8246\n",
      "Epoch 20/50\n",
      "12/12 [==============================] - 0s 3ms/step - loss: 0.1961 - binary_accuracy: 0.9824 - val_loss: 2.0058 - val_binary_accuracy: 0.8421\n",
      "Epoch 21/50\n",
      "12/12 [==============================] - 0s 3ms/step - loss: 0.1992 - binary_accuracy: 0.9882 - val_loss: 2.0290 - val_binary_accuracy: 0.8421\n",
      "Epoch 22/50\n",
      "12/12 [==============================] - 0s 3ms/step - loss: 0.1934 - binary_accuracy: 0.9824 - val_loss: 1.8486 - val_binary_accuracy: 0.8070\n",
      "Epoch 23/50\n",
      "12/12 [==============================] - 0s 3ms/step - loss: 0.1860 - binary_accuracy: 0.9882 - val_loss: 1.8082 - val_binary_accuracy: 0.8070\n",
      "Epoch 24/50\n",
      "12/12 [==============================] - 0s 3ms/step - loss: 0.1912 - binary_accuracy: 0.9882 - val_loss: 1.8182 - val_binary_accuracy: 0.8070\n",
      "Epoch 25/50\n",
      "12/12 [==============================] - 0s 3ms/step - loss: 0.1907 - binary_accuracy: 0.9824 - val_loss: 1.8253 - val_binary_accuracy: 0.8070\n",
      "Epoch 26/50\n",
      "12/12 [==============================] - 0s 3ms/step - loss: 0.1855 - binary_accuracy: 0.9882 - val_loss: 2.0662 - val_binary_accuracy: 0.8070\n",
      "Epoch 27/50\n",
      "12/12 [==============================] - 0s 3ms/step - loss: 0.1871 - binary_accuracy: 0.9882 - val_loss: 2.2751 - val_binary_accuracy: 0.8070\n",
      "Epoch 28/50\n",
      "12/12 [==============================] - 0s 3ms/step - loss: 0.1853 - binary_accuracy: 0.9882 - val_loss: 2.2568 - val_binary_accuracy: 0.8070\n",
      "Epoch 29/50\n",
      "12/12 [==============================] - 0s 3ms/step - loss: 0.1881 - binary_accuracy: 0.9882 - val_loss: 1.7902 - val_binary_accuracy: 0.8246\n",
      "Epoch 30/50\n",
      "12/12 [==============================] - 0s 3ms/step - loss: 0.1936 - binary_accuracy: 0.9765 - val_loss: 1.6721 - val_binary_accuracy: 0.8246\n",
      "Epoch 31/50\n",
      "12/12 [==============================] - 0s 3ms/step - loss: 0.1864 - binary_accuracy: 0.9882 - val_loss: 2.0491 - val_binary_accuracy: 0.8070\n",
      "Epoch 32/50\n",
      "12/12 [==============================] - 0s 3ms/step - loss: 0.1817 - binary_accuracy: 0.9882 - val_loss: 2.2794 - val_binary_accuracy: 0.7895\n",
      "Epoch 33/50\n",
      "12/12 [==============================] - 0s 3ms/step - loss: 0.1864 - binary_accuracy: 0.9882 - val_loss: 2.3013 - val_binary_accuracy: 0.7895\n",
      "Epoch 34/50\n",
      "12/12 [==============================] - 0s 3ms/step - loss: 0.1852 - binary_accuracy: 0.9882 - val_loss: 2.3283 - val_binary_accuracy: 0.7895\n",
      "Epoch 35/50\n",
      "12/12 [==============================] - 0s 3ms/step - loss: 0.1818 - binary_accuracy: 0.9882 - val_loss: 2.1214 - val_binary_accuracy: 0.7895\n",
      "Epoch 36/50\n",
      "12/12 [==============================] - 0s 3ms/step - loss: 0.1823 - binary_accuracy: 0.9882 - val_loss: 2.1120 - val_binary_accuracy: 0.7895\n",
      "Epoch 37/50\n",
      "12/12 [==============================] - 0s 2ms/step - loss: 0.2017 - binary_accuracy: 0.9824 - val_loss: 2.2290 - val_binary_accuracy: 0.8421\n",
      "Epoch 38/50\n",
      "12/12 [==============================] - 0s 3ms/step - loss: 0.2833 - binary_accuracy: 0.9824 - val_loss: 2.2130 - val_binary_accuracy: 0.8246\n",
      "Epoch 39/50\n",
      "12/12 [==============================] - 0s 3ms/step - loss: 0.1880 - binary_accuracy: 0.9882 - val_loss: 2.0238 - val_binary_accuracy: 0.8070\n",
      "Epoch 40/50\n",
      "12/12 [==============================] - 0s 3ms/step - loss: 0.1865 - binary_accuracy: 0.9824 - val_loss: 2.0824 - val_binary_accuracy: 0.7895\n",
      "Epoch 41/50\n",
      "12/12 [==============================] - 0s 3ms/step - loss: 0.1859 - binary_accuracy: 0.9824 - val_loss: 2.2603 - val_binary_accuracy: 0.8070\n",
      "Epoch 42/50\n",
      "12/12 [==============================] - 0s 3ms/step - loss: 0.1816 - binary_accuracy: 0.9882 - val_loss: 2.2720 - val_binary_accuracy: 0.8070\n",
      "Epoch 43/50\n",
      "12/12 [==============================] - 0s 2ms/step - loss: 0.1851 - binary_accuracy: 0.9882 - val_loss: 2.5156 - val_binary_accuracy: 0.7895\n",
      "Epoch 44/50\n",
      "12/12 [==============================] - 0s 3ms/step - loss: 0.1835 - binary_accuracy: 0.9882 - val_loss: 2.5222 - val_binary_accuracy: 0.7895\n",
      "Epoch 45/50\n",
      "12/12 [==============================] - 0s 3ms/step - loss: 0.1832 - binary_accuracy: 0.9882 - val_loss: 2.5220 - val_binary_accuracy: 0.7895\n",
      "Epoch 46/50\n",
      "12/12 [==============================] - 0s 3ms/step - loss: 0.1816 - binary_accuracy: 0.9882 - val_loss: 2.5364 - val_binary_accuracy: 0.7895\n",
      "Epoch 47/50\n",
      "12/12 [==============================] - 0s 3ms/step - loss: 0.1802 - binary_accuracy: 0.9882 - val_loss: 2.5314 - val_binary_accuracy: 0.7895\n",
      "Epoch 48/50\n",
      "12/12 [==============================] - 0s 2ms/step - loss: 0.1818 - binary_accuracy: 0.9882 - val_loss: 2.5303 - val_binary_accuracy: 0.7895\n",
      "Epoch 49/50\n",
      "12/12 [==============================] - 0s 3ms/step - loss: 0.1818 - binary_accuracy: 0.9882 - val_loss: 2.3210 - val_binary_accuracy: 0.7895\n",
      "Epoch 50/50\n",
      "12/12 [==============================] - 0s 3ms/step - loss: 0.1827 - binary_accuracy: 0.9882 - val_loss: 2.5299 - val_binary_accuracy: 0.7895\n"
     ]
    }
   ],
   "source": [
    "history = model.fit(X_train, y_train, validation_data=(X_valid, y_valid),batch_size=15,epochs=50,verbose=1)"
   ]
  },
  {
   "cell_type": "code",
   "execution_count": 42,
   "id": "569dd0ee",
   "metadata": {},
   "outputs": [
    {
     "name": "stdout",
     "output_type": "stream",
     "text": [
      "3/3 [==============================] - 0s 988us/step - loss: 2.2620 - binary_accuracy: 0.8289\n"
     ]
    },
    {
     "data": {
      "text/plain": [
       "[2.2620038986206055, 0.8289473652839661]"
      ]
     },
     "execution_count": 42,
     "metadata": {},
     "output_type": "execute_result"
    }
   ],
   "source": [
    "model.evaluate(X_test, y_test)"
   ]
  },
  {
   "cell_type": "code",
   "execution_count": null,
   "id": "5f772338",
   "metadata": {},
   "outputs": [],
   "source": []
  }
 ],
 "metadata": {
  "kernelspec": {
   "display_name": "Python 3",
   "language": "python",
   "name": "python3"
  },
  "language_info": {
   "codemirror_mode": {
    "name": "ipython",
    "version": 3
   },
   "file_extension": ".py",
   "mimetype": "text/x-python",
   "name": "python",
   "nbconvert_exporter": "python",
   "pygments_lexer": "ipython3",
   "version": "3.8.8"
  }
 },
 "nbformat": 4,
 "nbformat_minor": 5
}
